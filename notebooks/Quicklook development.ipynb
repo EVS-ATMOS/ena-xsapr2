{
 "cells": [
  {
   "cell_type": "markdown",
   "metadata": {},
   "source": [
    "Aim: develop a turnkey quicklook code for X-SAPR2"
   ]
  },
  {
   "cell_type": "code",
   "execution_count": 1,
   "metadata": {
    "collapsed": false
   },
   "outputs": [
    {
     "name": "stdout",
     "output_type": "stream",
     "text": [
      "\n",
      "## You are using the Python ARM Radar Toolkit (Py-ART), an open source\n",
      "## library for working with weather radar data. Py-ART is partly\n",
      "## supported by the U.S. Department of Energy as part of the Atmospheric\n",
      "## Radiation Measurement (ARM) Climate Research Facility, an Office of\n",
      "## Science user facility.\n",
      "##\n",
      "## If you use this software to prepare a publication, please cite:\n",
      "##\n",
      "##     JJ Helmus and SM Collis, JORS 2016, doi: 10.5334/jors.119\n",
      "\n"
     ]
    },
    {
     "name": "stderr",
     "output_type": "stream",
     "text": [
      "/Users/scollis/anaconda/envs/houston/lib/python3.5/json/encoder.py:198: DeprecationWarning: Interpreting naive datetime as local 2017-07-11 10:33:40.180835. Please add timezone info to timestamps.\n",
      "  chunks = self.iterencode(o, _one_shot=True)\n"
     ]
    }
   ],
   "source": [
    "#all our favourite imports\n",
    "from matplotlib import pyplot as plt\n",
    "import numpy as np\n",
    "import pyart\n",
    "from netCDF4 import num2date\n",
    "import pytz\n",
    "import cartopy\n",
    "import os\n",
    "#warnings.filterwarnings(\"ignore\")\n",
    "%matplotlib inline"
   ]
  },
  {
   "cell_type": "code",
   "execution_count": 2,
   "metadata": {
    "collapsed": false
   },
   "outputs": [
    {
     "name": "stderr",
     "output_type": "stream",
     "text": [
      "/Users/scollis/anaconda/envs/houston/lib/python3.5/json/encoder.py:198: DeprecationWarning: Interpreting naive datetime as local 2017-07-11 10:35:10.193011. Please add timezone info to timestamps.\n",
      "  chunks = self.iterencode(o, _one_shot=True)\n"
     ]
    }
   ],
   "source": [
    "filename = '/data/azores_pyart/enaxsaprsecD1.00.20170625.212006.raw.sec_XSAPR2_20170625212006_00.h5'\n",
    "ena_radar =  pyart.aux_io.gamic_hdf5.read_gamic(filename, file_field_names=True)\n"
   ]
  },
  {
   "cell_type": "code",
   "execution_count": 3,
   "metadata": {
    "collapsed": false
   },
   "outputs": [
    {
     "name": "stdout",
     "output_type": "stream",
     "text": [
      "dict_keys(['data', '_FillValue', 'units'])\n"
     ]
    },
    {
     "name": "stderr",
     "output_type": "stream",
     "text": [
      "/Users/scollis/anaconda/envs/houston/lib/python3.5/json/encoder.py:198: DeprecationWarning: Interpreting naive datetime as local 2017-07-11 10:36:03.496885. Please add timezone info to timestamps.\n",
      "  chunks = self.iterencode(o, _one_shot=True)\n"
     ]
    }
   ],
   "source": [
    "quicklook_directory = '/data/azores_pyart/quicklooks/'"
   ]
  },
  {
   "cell_type": "code",
   "execution_count": 7,
   "metadata": {
    "collapsed": false
   },
   "outputs": [
    {
     "name": "stdout",
     "output_type": "stream",
     "text": [
      "Z : dBZ\n",
      "UZ : dBZ\n",
      "UZDR1 : dB\n",
      "ZDR1 : dB\n",
      "CWv : m/s\n",
      "AZh : dBZ\n",
      "Wh : m/s\n",
      "UnVh : m/s\n",
      "SNRv : dB\n",
      "UPHIDP : deg\n",
      "KDP : deg/km\n",
      "AZDR : dB\n",
      "RHOHV : Unavailable\n",
      "ZDR : dB\n",
      "Wv : m/s\n",
      "Vv : m/s\n",
      "UZv : dBZ\n",
      "SQIh : Unavailable\n",
      "PHIDP : deg\n",
      "CMAP : Unavailable\n",
      "SNRh : dB\n",
      "Vh : m/s\n",
      "CWh : m/s\n",
      "AZDR1 : dB\n",
      "UZh : dBZ\n",
      "Zv : dBZ\n",
      "URHOHV : Unavailable\n",
      "Zh : dBZ\n",
      "CLASS : Unavailable\n",
      "UZDR : dB\n",
      "UnVv : m/s\n",
      "SQIv : Unavailable\n"
     ]
    },
    {
     "name": "stderr",
     "output_type": "stream",
     "text": [
      "/Users/scollis/anaconda/envs/houston/lib/python3.5/json/encoder.py:198: DeprecationWarning: Interpreting naive datetime as local 2017-07-11 11:10:40.722629. Please add timezone info to timestamps.\n",
      "  chunks = self.iterencode(o, _one_shot=True)\n"
     ]
    }
   ],
   "source": [
    "for field_name in list(ena_radar.fields.keys()):\n",
    "    try:\n",
    "        print(field_name, ':', ena_radar.fields[field_name]['units'])\n",
    "    except KeyError:\n",
    "        print(field_name, ':', 'Unavailable')"
   ]
  },
  {
   "cell_type": "code",
   "execution_count": 8,
   "metadata": {
    "collapsed": false
   },
   "outputs": [
    {
     "name": "stderr",
     "output_type": "stream",
     "text": [
      "/Users/scollis/anaconda/envs/houston/lib/python3.5/json/encoder.py:198: DeprecationWarning: Interpreting naive datetime as local 2017-07-11 11:46:58.116062. Please add timezone info to timestamps.\n",
      "  chunks = self.iterencode(o, _one_shot=True)\n"
     ]
    }
   ],
   "source": [
    "#page 44 of https://github.com/scollis/CfRadial/blob/master/docs/CfRadialDoc.v2.0.draft.pdf\n",
    "z_name = 'equivalent_reflectivity_factor'\n",
    "v_name = 'radial_velocity_of_scatterers_away_from_instrument'\n",
    "wth_name = 'doppler_spectrum_width'\n",
    "zdr_name = 'log_differential_reflectivity_hv'\n",
    "ldr_name = 'log_linear_depolarization_ratio_hv'\n",
    "phidp_name = 'differential_phase_hv'\n",
    "kdp_name = 'specific_differential_phase_hv'\n",
    "rhv_name = 'cross_correlation_ratio_hv' \n",
    "power_name = 'log_power'\n",
    "sqi_name = 'normalized_coherent_power'\n",
    "zc_name = 'corrected_equivalent_reflectivity_factor'\n",
    "vc_name = 'corrected_radial_velocity_of_scatterers_away_from_instrument'\n",
    "zdrc_name = 'corrected_log_differential_reflectivity_hv'\n",
    "class_name = 'radar_echo_classification'\n",
    "snr_name = 'signal_to_noise_ratio'\n",
    "\n",
    "trans_table = {'Z': {'standard_name': z_name, 'name': 'refelctivity'},\n",
    "               'UZ': {'standard_name': z_name, 'name': 'uncorrected_refelctivity'},\n",
    "              'UZDR1': {'standard_name': zdr_name, 'name': 'uncorrected_differential_reflectivity_1'},\n",
    "              'ZDR1': {'standard_name': zdr_name, 'name': 'differential_refelctivity_1'},\n",
    "              'CWv': {'standard_name': wth_name, 'name': 'corrected_spectral_width_vertical'},\n",
    "              'AZh': {'standard_name': z_name, 'name': 'attenuation_corrected_reflectivity_horizontal'},\n",
    "              'Wh': {'standard_name': wth_name, 'name': 'spectral_width_horizontal'},\n",
    "              'UnVh': {'standard_name': vc_name, 'name': 'unfolded_radial_velocity'},\n",
    "              'SNRv': {'standard_name': snr_name, 'name': 'signal_to_noise_ratio_vertical'},\n",
    "              'UPHIDP': {'standard_name': phidp_name, 'name': 'unfolded_differential_phase'},\n",
    "              'KDP': {'standard_name': kdp_name, 'name': 'specific_differential_phase'},\n",
    "              'AZDR': {'standard_name': zdrc_name, 'name': 'attenuation_corrected_differential_reflectivity'},\n",
    "              'RHOHV': {'standard_name': rhv_name, 'name': 'cross_correlation_ratio_hv', 'units': 'unitless'},\n",
    "              'ZDR': {'standard_name': zdr_name, 'name': 'differential_refelctivity'},\n",
    "              'Wv': {'standard_name': wth_name, 'name': 'spectral_width_vertical'},\n",
    "              'Vv': {'standard_name': v_name, 'name': 'radial_velocity_vertical'},\n",
    "              'UZv': {'standard_name': z_name, 'name': 'uncorrected_reflectivity_vertical'},\n",
    "              'SQIh': {'standard_name': sqi_name, 'name': 'normalized_coherent_power_horizontal', 'units': 'unitless'},\n",
    "              'PHIDP': {'standard_name': phidp_name, 'name': 'differential_phase'},\n",
    "              'CMAP': {'standard_name': class_name, 'name': 'clutter_map'},\n",
    "              'SNRh': {'standard_name': snr_name, 'name': 'signal_to_noise_ratio_horizontal'},\n",
    "              'Vh': {'standard_name': v_name, 'name': 'radial_velocity_horizontal'},\n",
    "              'CWh': {'standard_name': wth_name, 'name': 'corrected_spectral_width_horizontal'},\n",
    "              'AZDR1': {'standard_name': zdrc_name, 'name': 'attenuation_corrected_differential_reflectivity_1'},\n",
    "              'UZh': {'standard_name': z_name, 'name': 'uncorrected_refelctivity_horizontal'},\n",
    "              'Zv': {'standard_name': z_name, 'name': 'refelctivity_horizontal'}}"
   ]
  },
  {
   "cell_type": "markdown",
   "metadata": {},
   "source": [
    "linear_equivalent_reflectivity_factor Z Z no\n",
    "log_linear_depolarization_ratio_hv LDR dB no\n",
    "log_linear_depolarization_ratio_h LDRH dB no\n",
    "log_linear_depolarization_ratio_v LDRV dB no\n",
    "\n",
    "\n",
    "cross_polar_differential_phase PHIHX degrees no\n",
    "cross_correlation_ratio_hv RHOHV no\n",
    "co_to_cross_polar_correlation_ratio_h RHOHX no\n",
    "co_to_cross_polar_correlation_ratio_v RHOXV no\n",
    "log_power DBM dBm no\n",
    "log_power_co_polar_h DBMHC dBm no\n",
    "log_power_cross_polar_h DBMHX dBm no\n",
    "log_power_co_polar_v DBMVC dBm no\n",
    "log_power_cross_polar_v DBMVX dBm no\n",
    "linear_power PWR mW no\n",
    "linear_power_co_polar_h PWRHC mW no\n",
    "linear_power_cross_polar_h PWRHX mW no\n",
    "linear_power_co_polar_v PWRVC mW no\n",
    "CfRadial format Version 2.0 DRAFT 2016-08-12\n",
    "EOL, NCAR 45\n",
    "Standard name Short\n",
    "name\n",
    "Units Already\n",
    "in CF?\n",
    "linear_power_cross_polar_v PWRVX mW no\n",
    "signal_to_noise_ratio SNR dB no\n",
    "signal_to_noise_ratio_co_polar_h SNRHC dB no\n",
    "signal_to_noise_ratio_cross_polar_h SNRHX dB no\n",
    "signal_to_noise_ratio_co_polar_v SNRVC dB no\n",
    "signal_to_noise_ratio_cross_polar_v SNRVX dB no\n",
    "\n",
    "\n",
    "\n",
    "radar_estimated_rain_rate RRR mm/hr no\n",
    "rain_rate RR kg/m2/s yes\n",
    "radar_echo_classification\n",
    "(should be used for PID, HCA, HID etc)\n",
    "REC legend no"
   ]
  },
  {
   "cell_type": "code",
   "execution_count": null,
   "metadata": {
    "collapsed": true
   },
   "outputs": [],
   "source": []
  }
 ],
 "metadata": {
  "kernelspec": {
   "display_name": "Python 3",
   "language": "python",
   "name": "python3"
  },
  "language_info": {
   "codemirror_mode": {
    "name": "ipython",
    "version": 3
   },
   "file_extension": ".py",
   "mimetype": "text/x-python",
   "name": "python",
   "nbconvert_exporter": "python",
   "pygments_lexer": "ipython3",
   "version": "3.5.3"
  }
 },
 "nbformat": 4,
 "nbformat_minor": 2
}
