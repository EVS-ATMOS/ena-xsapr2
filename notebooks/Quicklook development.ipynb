{
 "cells": [
  {
   "cell_type": "markdown",
   "metadata": {
    "deletable": true,
    "editable": true
   },
   "source": [
    "Aim: develop a turnkey quicklook code for X-SAPR2"
   ]
  },
  {
   "cell_type": "code",
   "execution_count": 5,
   "metadata": {
    "collapsed": false,
    "deletable": true,
    "editable": true
   },
   "outputs": [
    {
     "name": "stderr",
     "output_type": "stream",
     "text": [
      "/Users/scollis/anaconda/envs/houston/lib/python3.5/json/encoder.py:198: DeprecationWarning: Interpreting naive datetime as local 2017-07-12 14:42:08.796236. Please add timezone info to timestamps.\n",
      "  chunks = self.iterencode(o, _one_shot=True)\n"
     ]
    }
   ],
   "source": [
    "#all our favourite imports\n",
    "from matplotlib import pyplot as plt\n",
    "import numpy as np\n",
    "import pyart\n",
    "from netCDF4 import num2date\n",
    "import pytz\n",
    "import cartopy\n",
    "import os\n",
    "#warnings.filterwarnings(\"ignore\")\n",
    "%matplotlib inline"
   ]
  },
  {
   "cell_type": "code",
   "execution_count": 37,
   "metadata": {
    "collapsed": false,
    "deletable": true,
    "editable": true
   },
   "outputs": [
    {
     "name": "stderr",
     "output_type": "stream",
     "text": [
      "/Users/scollis/anaconda/envs/houston/lib/python3.5/json/encoder.py:198: DeprecationWarning: Interpreting naive datetime as local 2017-07-12 15:08:42.162926. Please add timezone info to timestamps.\n",
      "  chunks = self.iterencode(o, _one_shot=True)\n"
     ]
    }
   ],
   "source": [
    "def plot_xsapr2(radar, field = 'reflectivity', cmap=None,\n",
    "               vmin=None, vmax=None, sweep=None, fig=None):\n",
    "    \n",
    "    if sweep is None:\n",
    "        sweep = 0\n",
    "    \n",
    "    \n",
    "    # Lets get some geographical context\n",
    "    lats = radar.gate_latitude\n",
    "    lons = radar.gate_longitude\n",
    "\n",
    "    min_lon = lons['data'].min()\n",
    "    min_lat = lats['data'].min()\n",
    "    max_lat = lats['data'].max()\n",
    "    max_lon = lons['data'].max()\n",
    "\n",
    "    print('min_lat:', min_lat, ' min_lon:', min_lon, \n",
    "          ' max_lat:', max_lat, ' max_lon:', max_lon)\n",
    "\n",
    "    index_at_start = radar.sweep_start_ray_index['data'][sweep]\n",
    "    time_at_start_of_radar = num2date(radar.time['data'][index_at_start], \n",
    "                                      radar.time['units'])\n",
    "    GMT = pytz.timezone('GMT')\n",
    "    local_time = GMT.fromutc(time_at_start_of_radar)\n",
    "    fancy_date_string = local_time.strftime('%A %B %d at %I:%M %p %Z')\n",
    "    print(fancy_date_string)\n",
    "    if fig is None:\n",
    "        fig = plt.figure(figsize = [15,10])\n",
    "    display = pyart.graph.RadarMapDisplayCartopy(radar)\n",
    "    lat_0 = display.loc[0]\n",
    "    lon_0 = display.loc[1]\n",
    "\n",
    "    # Main difference! Cartopy forces you to select a projection first!\n",
    "    projection = cartopy.crs.Mercator(\n",
    "                    central_longitude=lon_0,\n",
    "                    min_latitude=min_lat, max_latitude=max_lat)\n",
    "\n",
    "    title = 'X-SAPR2 ' + field.replace('_',' ') + ' \\n' + fancy_date_string\n",
    "\n",
    "    display.plot_ppi_map(\n",
    "        field, 0, colorbar_flag=False,\n",
    "        title=title,\n",
    "        projection=projection,\n",
    "        min_lon=min_lon, max_lon=max_lon, min_lat=min_lat, max_lat=max_lat,\n",
    "        vmin=vmin, vmax=vmax, cmap=cmap)\n",
    "\n",
    "    lb = display._get_colorbar_label(field)\n",
    "    cb = plt.colorbar(display.plots[0], shrink=.7, aspect=30, pad=0.01)\n",
    "    cb.set_label(lb)\n",
    "\n",
    "    # Mark the radar\n",
    "    display.plot_point(lon_0, lat_0, label_text='X-SAPR2')\n",
    "\n",
    "    # Plot some lat and lon lines\n",
    "    gl = display.ax.gridlines(draw_labels=True,\n",
    "                              linewidth=2, color='gray', alpha=0.5, linestyle='--')\n",
    "    gl.xlabels_top = False\n",
    "    gl.ylabels_right = False"
   ]
  },
  {
   "cell_type": "code",
   "execution_count": 53,
   "metadata": {
    "collapsed": false
   },
   "outputs": [
    {
     "name": "stderr",
     "output_type": "stream",
     "text": [
      "/Users/scollis/anaconda/envs/houston/lib/python3.5/json/encoder.py:198: DeprecationWarning: Interpreting naive datetime as local 2017-07-12 15:22:33.390404. Please add timezone info to timestamps.\n",
      "  chunks = self.iterencode(o, _one_shot=True)\n"
     ]
    }
   ],
   "source": [
    "def gen_name(odir, radar, field):\n",
    "    rad_start_date = num2date(ena_radar.time['data'][0], ena_radar.time['units']) \n",
    "    dstr = rad_start_date.strftime('%Y%d%m_%H%M')\n",
    "    fname = 'xsapr2_ena_quicklook_' + field + '_' + dstr + '.png'\n",
    "    fqn = os.path.join(odir, fname)\n",
    "    return fqn"
   ]
  },
  {
   "cell_type": "code",
   "execution_count": 51,
   "metadata": {
    "collapsed": false
   },
   "outputs": [
    {
     "name": "stderr",
     "output_type": "stream",
     "text": [
      "/Users/scollis/anaconda/envs/houston/lib/python3.5/json/encoder.py:198: DeprecationWarning: Interpreting naive datetime as local 2017-07-12 15:17:20.627239. Please add timezone info to timestamps.\n",
      "  chunks = self.iterencode(o, _one_shot=True)\n"
     ]
    }
   ],
   "source": [
    "def auto_plot(quicklook_directory, radar, field, param_table):\n",
    "    fig = plt.figure(figsize = [15,10])\n",
    "    plot_xsapr2(radar, field = field, cmap=param_table[field]['cmap'],\n",
    "               vmin=param_table[field]['vmin'],\n",
    "                vmax=param_table[field]['vmax'], sweep = 0, fig=fig)\n",
    "    plt.savefig(gen_name(quicklook_directory, radar, field))\n",
    "    plt.close(fig)\n"
   ]
  },
  {
   "cell_type": "code",
   "execution_count": 22,
   "metadata": {
    "collapsed": false,
    "deletable": true,
    "editable": true
   },
   "outputs": [
    {
     "name": "stderr",
     "output_type": "stream",
     "text": [
      "/Users/scollis/anaconda/envs/houston/lib/python3.5/json/encoder.py:198: DeprecationWarning: Interpreting naive datetime as local 2017-07-12 14:58:29.255156. Please add timezone info to timestamps.\n",
      "  chunks = self.iterencode(o, _one_shot=True)\n"
     ]
    }
   ],
   "source": [
    "filename = '/data/azores_pyart/enaxsaprsecD1.00.20170625.212006.raw.sec_XSAPR2_20170625212006_00.h5'\n",
    "ena_radar =  pyart.aux_io.gamic_hdf5.read_gamic(filename, file_field_names=True)\n"
   ]
  },
  {
   "cell_type": "code",
   "execution_count": 23,
   "metadata": {
    "collapsed": false,
    "deletable": true,
    "editable": true
   },
   "outputs": [
    {
     "name": "stderr",
     "output_type": "stream",
     "text": [
      "/Users/scollis/anaconda/envs/houston/lib/python3.5/json/encoder.py:198: DeprecationWarning: Interpreting naive datetime as local 2017-07-12 14:58:32.830501. Please add timezone info to timestamps.\n",
      "  chunks = self.iterencode(o, _one_shot=True)\n"
     ]
    }
   ],
   "source": [
    "quicklook_directory = '/data/azores_pyart/quicklooks/'"
   ]
  },
  {
   "cell_type": "code",
   "execution_count": 24,
   "metadata": {
    "collapsed": false,
    "deletable": true,
    "editable": true
   },
   "outputs": [
    {
     "name": "stdout",
     "output_type": "stream",
     "text": [
      "KDP : deg/km\n",
      "Wh : m/s\n",
      "UZh : dBZ\n",
      "UZDR1 : dB\n",
      "Vh : m/s\n",
      "SNRv : dB\n",
      "SNRh : dB\n",
      "UZv : dBZ\n",
      "CLASS : Unavailable\n",
      "Zh : dBZ\n",
      "CMAP : Unavailable\n",
      "URHOHV : Unavailable\n",
      "UZDR : dB\n",
      "Wv : m/s\n",
      "PHIDP : deg\n",
      "UnVv : m/s\n",
      "AZDR : dB\n",
      "UnVh : m/s\n",
      "UPHIDP : deg\n",
      "Z : dBZ\n",
      "RHOHV : Unavailable\n",
      "SQIv : Unavailable\n",
      "AZDR1 : dB\n",
      "AZh : dBZ\n",
      "SQIh : Unavailable\n",
      "Zv : dBZ\n",
      "ZDR1 : dB\n",
      "Vv : m/s\n",
      "CWh : m/s\n",
      "CWv : m/s\n",
      "UZ : dBZ\n",
      "ZDR : dB\n"
     ]
    },
    {
     "name": "stderr",
     "output_type": "stream",
     "text": [
      "/Users/scollis/anaconda/envs/houston/lib/python3.5/json/encoder.py:198: DeprecationWarning: Interpreting naive datetime as local 2017-07-12 14:58:32.840467. Please add timezone info to timestamps.\n",
      "  chunks = self.iterencode(o, _one_shot=True)\n"
     ]
    }
   ],
   "source": [
    "for field_name in list(ena_radar.fields.keys()):\n",
    "    try:\n",
    "        print(field_name, ':', ena_radar.fields[field_name]['units'])\n",
    "    except KeyError:\n",
    "        print(field_name, ':', 'Unavailable')"
   ]
  },
  {
   "cell_type": "code",
   "execution_count": 25,
   "metadata": {
    "collapsed": false,
    "deletable": true,
    "editable": true
   },
   "outputs": [
    {
     "name": "stderr",
     "output_type": "stream",
     "text": [
      "/Users/scollis/anaconda/envs/houston/lib/python3.5/json/encoder.py:198: DeprecationWarning: Interpreting naive datetime as local 2017-07-12 14:58:32.882415. Please add timezone info to timestamps.\n",
      "  chunks = self.iterencode(o, _one_shot=True)\n"
     ]
    }
   ],
   "source": [
    "#page 44 of https://github.com/scollis/CfRadial/blob/master/docs/CfRadialDoc.v2.0.draft.pdf\n",
    "z_name = 'equivalent_reflectivity_factor'\n",
    "v_name = 'radial_velocity_of_scatterers_away_from_instrument'\n",
    "wth_name = 'doppler_spectrum_width'\n",
    "zdr_name = 'log_differential_reflectivity_hv'\n",
    "ldr_name = 'log_linear_depolarization_ratio_hv'\n",
    "phidp_name = 'differential_phase_hv'\n",
    "kdp_name = 'specific_differential_phase_hv'\n",
    "rhv_name = 'cross_correlation_ratio_hv' \n",
    "power_name = 'log_power'\n",
    "sqi_name = 'normalized_coherent_power'\n",
    "zc_name = 'corrected_equivalent_reflectivity_factor'\n",
    "vc_name = 'corrected_radial_velocity_of_scatterers_away_from_instrument'\n",
    "zdrc_name = 'corrected_log_differential_reflectivity_hv'\n",
    "class_name = 'radar_echo_classification'\n",
    "snr_name = 'signal_to_noise_ratio'\n",
    "\n",
    "trans_table = {'Z': {'standard_name': z_name, 'name': 'reflectivity'},\n",
    "               'UZ': {'standard_name': z_name, 'name': 'uncorrected_reflectivity'},\n",
    "              'UZDR1': {'standard_name': zdr_name, 'name': 'uncorrected_differential_reflectivity_1'},\n",
    "              'ZDR1': {'standard_name': zdr_name, 'name': 'differential_reflectivity_1'},\n",
    "              'CWv': {'standard_name': wth_name, 'name': 'corrected_spectral_width_vertical'},\n",
    "              'AZh': {'standard_name': z_name, 'name': 'attenuation_corrected_reflectivity_horizontal'},\n",
    "              'Wh': {'standard_name': wth_name, 'name': 'spectral_width_horizontal'},\n",
    "              'UnVh': {'standard_name': vc_name, 'name': 'unfolded_radial_velocity_horizontal'},\n",
    "              'SNRv': {'standard_name': snr_name, 'name': 'signal_to_noise_ratio_vertical'},\n",
    "              'UPHIDP': {'standard_name': phidp_name, 'name': 'unfolded_differential_phase'},\n",
    "              'KDP': {'standard_name': kdp_name, 'name': 'specific_differential_phase'},\n",
    "              'AZDR': {'standard_name': zdrc_name, 'name': 'attenuation_corrected_differential_reflectivity'},\n",
    "              'RHOHV': {'standard_name': rhv_name, 'name': 'cross_correlation_ratio_hv', 'units': 'unitless'},\n",
    "              'ZDR': {'standard_name': zdr_name, 'name': 'differential_reflectivity'},\n",
    "              'Wv': {'standard_name': wth_name, 'name': 'spectral_width_vertical'},\n",
    "              'Vv': {'standard_name': v_name, 'name': 'radial_velocity_vertical'},\n",
    "              'UZv': {'standard_name': z_name, 'name': 'uncorrected_reflectivity_vertical'},\n",
    "              'SQIh': {'standard_name': sqi_name, 'name': 'normalized_coherent_power_horizontal', 'units': 'unitless'},\n",
    "              'PHIDP': {'standard_name': phidp_name, 'name': 'differential_phase'},\n",
    "              'CMAP': {'standard_name': class_name, 'name': 'clutter_map', 'units': 'unitless'},\n",
    "              'SNRh': {'standard_name': snr_name, 'name': 'signal_to_noise_ratio_horizontal'},\n",
    "              'Vh': {'standard_name': v_name, 'name': 'radial_velocity_horizontal'},\n",
    "              'CWh': {'standard_name': wth_name, 'name': 'corrected_spectral_width_horizontal'},\n",
    "              'AZDR1': {'standard_name': zdrc_name, 'name': 'attenuation_corrected_differential_reflectivity_1'},\n",
    "              'UZh': {'standard_name': z_name, 'name': 'uncorrected_refelctivity_horizontal'},\n",
    "              'Zv': {'standard_name': z_name, 'name': 'reflectivity_horizontal_vertical'},\n",
    "              'URHOHV':  {'standard_name': rhv_name, 'name': 'uncorrected_cross_correlation_ratio_hv', 'units': 'unitless'},\n",
    "              'Zh': {'standard_name': z_name, 'name': 'reflectivity_horizontal_vertical'},\n",
    "              'CLASS': {'standard_name': class_name, 'name': 'echo_id', 'units': 'unitless'}, \n",
    "              'UZDR': {'standard_name': zdr_name, 'name': 'uncorrected_differential_reflectivity'},\n",
    "              'UnVv': {'standard_name': vc_name, 'name': 'unfolded_radial_velocity_vertical'},\n",
    "              'SQIv': {'standard_name': sqi_name, 'name': 'normalized_coherent_power_vertical', 'units': 'unitless'}}"
   ]
  },
  {
   "cell_type": "code",
   "execution_count": 26,
   "metadata": {
    "collapsed": false,
    "deletable": true,
    "editable": true
   },
   "outputs": [
    {
     "name": "stderr",
     "output_type": "stream",
     "text": [
      "/Users/scollis/anaconda/envs/houston/lib/python3.5/json/encoder.py:198: DeprecationWarning: Interpreting naive datetime as local 2017-07-12 14:58:35.073025. Please add timezone info to timestamps.\n",
      "  chunks = self.iterencode(o, _one_shot=True)\n"
     ]
    }
   ],
   "source": [
    "for field_name in list(ena_radar.fields.keys()):\n",
    "    for transfer_item in list(trans_table[field_name].keys()):\n",
    "        if transfer_item != 'name':\n",
    "            ena_radar.fields[field_name][transfer_item] = trans_table[field_name][transfer_item]\n",
    "    ena_radar.fields[field_name]['HDF_name'] = field_name\n",
    "    ena_radar.fields[trans_table[field_name]['name']] = ena_radar.fields.pop(field_name)\n",
    "    "
   ]
  },
  {
   "cell_type": "code",
   "execution_count": 27,
   "metadata": {
    "collapsed": false,
    "deletable": true,
    "editable": true
   },
   "outputs": [
    {
     "name": "stdout",
     "output_type": "stream",
     "text": [
      "uncorrected_refelctivity_horizontal -: units: dBZ, _FillValue: -9999.0, HDF_name: UZh, standard_name: equivalent_reflectivity_factor, \n",
      "signal_to_noise_ratio_horizontal -: units: dB, _FillValue: -9999.0, HDF_name: SNRh, standard_name: signal_to_noise_ratio, \n",
      "attenuation_corrected_reflectivity_horizontal -: units: dBZ, _FillValue: -9999.0, HDF_name: AZh, standard_name: equivalent_reflectivity_factor, \n",
      "differential_reflectivity -: units: dB, _FillValue: -9999.0, HDF_name: ZDR, standard_name: log_differential_reflectivity_hv, \n",
      "uncorrected_differential_reflectivity_1 -: units: dB, _FillValue: -9999.0, HDF_name: UZDR1, standard_name: log_differential_reflectivity_hv, \n",
      "uncorrected_differential_reflectivity -: units: dB, _FillValue: -9999.0, HDF_name: UZDR, standard_name: log_differential_reflectivity_hv, \n",
      "spectral_width_vertical -: units: m/s, _FillValue: -9999.0, HDF_name: Wv, standard_name: doppler_spectrum_width, \n",
      "uncorrected_cross_correlation_ratio_hv -: units: unitless, _FillValue: -9999.0, HDF_name: URHOHV, standard_name: cross_correlation_ratio_hv, \n",
      "radial_velocity_horizontal -: units: m/s, _FillValue: -9999.0, HDF_name: Vh, standard_name: radial_velocity_of_scatterers_away_from_instrument, \n",
      "normalized_coherent_power_horizontal -: units: unitless, _FillValue: -9999.0, HDF_name: SQIh, standard_name: normalized_coherent_power, \n",
      "cross_correlation_ratio_hv -: units: unitless, _FillValue: -9999.0, HDF_name: RHOHV, standard_name: cross_correlation_ratio_hv, \n",
      "clutter_map -: units: unitless, _FillValue: -9999.0, HDF_name: CMAP, standard_name: radar_echo_classification, \n",
      "echo_id -: units: unitless, _FillValue: -9999.0, HDF_name: CLASS, standard_name: radar_echo_classification, \n",
      "unfolded_differential_phase -: units: deg, _FillValue: -9999.0, HDF_name: UPHIDP, standard_name: differential_phase_hv, \n",
      "spectral_width_horizontal -: units: m/s, _FillValue: -9999.0, HDF_name: Wh, standard_name: doppler_spectrum_width, \n",
      "attenuation_corrected_differential_reflectivity_1 -: units: dB, _FillValue: -9999.0, HDF_name: AZDR1, standard_name: corrected_log_differential_reflectivity_hv, \n",
      "unfolded_radial_velocity_vertical -: units: m/s, _FillValue: -9999.0, HDF_name: UnVv, standard_name: corrected_radial_velocity_of_scatterers_away_from_instrument, \n",
      "uncorrected_reflectivity_vertical -: units: dBZ, _FillValue: -9999.0, HDF_name: UZv, standard_name: equivalent_reflectivity_factor, \n",
      "specific_differential_phase -: units: deg/km, _FillValue: -9999.0, HDF_name: KDP, standard_name: specific_differential_phase_hv, \n",
      "differential_reflectivity_1 -: units: dB, _FillValue: -9999.0, HDF_name: ZDR1, standard_name: log_differential_reflectivity_hv, \n",
      "normalized_coherent_power_vertical -: units: unitless, _FillValue: -9999.0, HDF_name: SQIv, standard_name: normalized_coherent_power, \n",
      "uncorrected_reflectivity -: units: dBZ, _FillValue: -9999.0, HDF_name: UZ, standard_name: equivalent_reflectivity_factor, \n",
      "signal_to_noise_ratio_vertical -: units: dB, _FillValue: -9999.0, HDF_name: SNRv, standard_name: signal_to_noise_ratio, \n",
      "differential_phase -: units: deg, _FillValue: -9999.0, HDF_name: PHIDP, standard_name: differential_phase_hv, \n",
      "corrected_spectral_width_vertical -: units: m/s, _FillValue: -9999.0, HDF_name: CWv, standard_name: doppler_spectrum_width, \n",
      "reflectivity_horizontal_vertical -: units: dBZ, _FillValue: -9999.0, HDF_name: Zv, standard_name: equivalent_reflectivity_factor, \n",
      "corrected_spectral_width_horizontal -: units: m/s, _FillValue: -9999.0, HDF_name: CWh, standard_name: doppler_spectrum_width, \n",
      "attenuation_corrected_differential_reflectivity -: units: dB, _FillValue: -9999.0, HDF_name: AZDR, standard_name: corrected_log_differential_reflectivity_hv, \n",
      "reflectivity -: units: dBZ, _FillValue: -9999.0, HDF_name: Z, standard_name: equivalent_reflectivity_factor, \n",
      "radial_velocity_vertical -: units: m/s, _FillValue: -9999.0, HDF_name: Vv, standard_name: radial_velocity_of_scatterers_away_from_instrument, \n",
      "unfolded_radial_velocity_horizontal -: units: m/s, _FillValue: -9999.0, HDF_name: UnVh, standard_name: corrected_radial_velocity_of_scatterers_away_from_instrument, \n"
     ]
    },
    {
     "name": "stderr",
     "output_type": "stream",
     "text": [
      "/Users/scollis/anaconda/envs/houston/lib/python3.5/json/encoder.py:198: DeprecationWarning: Interpreting naive datetime as local 2017-07-12 14:58:35.581750. Please add timezone info to timestamps.\n",
      "  chunks = self.iterencode(o, _one_shot=True)\n"
     ]
    }
   ],
   "source": [
    "for field_name in list(ena_radar.fields.keys()):\n",
    "    strr = field_name + ' -: '\n",
    "    for this in list(ena_radar.fields[field_name].keys()):\n",
    "        if this != 'data':\n",
    "            strr += this + ': ' + str(ena_radar.fields[field_name][this]) + ', '\n",
    "    print(strr)"
   ]
  },
  {
   "cell_type": "code",
   "execution_count": 28,
   "metadata": {
    "collapsed": false,
    "deletable": true,
    "editable": true
   },
   "outputs": [
    {
     "name": "stdout",
     "output_type": "stream",
     "text": [
      "clutter_map 0.0 0.0\n",
      "echo_id 0.0 0.0\n"
     ]
    },
    {
     "name": "stderr",
     "output_type": "stream",
     "text": [
      "/Users/scollis/anaconda/envs/houston/lib/python3.5/json/encoder.py:198: DeprecationWarning: Interpreting naive datetime as local 2017-07-12 14:58:40.446897. Please add timezone info to timestamps.\n",
      "  chunks = self.iterencode(o, _one_shot=True)\n"
     ]
    }
   ],
   "source": [
    "for field_name in list(ena_radar.fields.keys()):\n",
    "    if ena_radar.fields[field_name]['standard_name'] == class_name:\n",
    "        fmin = ena_radar.fields[field_name]['data'].min()\n",
    "        fmax = ena_radar.fields[field_name]['data'].max()\n",
    "        print(field_name, fmin, fmax)"
   ]
  },
  {
   "cell_type": "code",
   "execution_count": 40,
   "metadata": {
    "collapsed": false,
    "deletable": true,
    "editable": true
   },
   "outputs": [
    {
     "name": "stderr",
     "output_type": "stream",
     "text": [
      "/Users/scollis/anaconda/envs/houston/lib/python3.5/json/encoder.py:198: DeprecationWarning: Interpreting naive datetime as local 2017-07-12 15:09:51.575980. Please add timezone info to timestamps.\n",
      "  chunks = self.iterencode(o, _one_shot=True)\n"
     ]
    }
   ],
   "source": [
    "maps = pyart.graph.cm\n",
    "nyq = ena_radar.instrument_parameters['nyquist_velocity']['data'][0]\n",
    "\n",
    "standard_z = {'vmin' : -40, 'vmax' : 40, 'cmap': maps.NWSRef}\n",
    "standard_zdr = {'vmin' : -10, 'vmax' : 0, 'cmap': maps.LangRainbow12}\n",
    "standard_width = {'vmin' : 0, 'vmax' : nyq/2.0, 'cmap': maps.LangRainbow12}\n",
    "standard_snr = {'vmin' : -30, 'vmax' : 30, 'cmap': maps.NWSRef}\n",
    "standard_vel = {'vmin' : -nyq, 'vmax' : nyq, 'cmap': maps.NWSVel}\n",
    "standard_zto = {'vmin' : 0, 'vmax' : 1, 'cmap': maps.LangRainbow12}\n",
    "standard_phidp_180 = {'vmin' : -180, 'vmax' : 180, 'cmap': maps.LangRainbow12}\n",
    "standard_snr = {'vmin' : -80, 'vmax' : 10, 'cmap': maps.NWSRef}\n",
    "\n",
    "plotting_table = {'reflectivity': standard_z,\n",
    "              'uncorrected_reflectivity': standard_z,\n",
    "              'uncorrected_differential_reflectivity_1': standard_zdr,\n",
    "              'differential_reflectivity_1': standard_zdr,\n",
    "              'corrected_spectral_width_vertical': standard_width,\n",
    "              'attenuation_corrected_reflectivity_horizontal': standard_z,\n",
    "              'spectral_width_horizontal': standard_width,\n",
    "              'unfolded_radial_velocity_horizontal': {'vmin' : -nyq*2.0, 'vmax' : nyq*2.0, 'cmap': maps.NWSVel},\n",
    "              'signal_to_noise_ratio_vertical': standard_snr,\n",
    "              'unfolded_differential_phase': {'vmin' : 0, 'vmax' : 180, 'cmap': maps.LangRainbow12},\n",
    "              'specific_differential_phase': {'vmin' : -1, 'vmax' : 8, 'cmap': maps.LangRainbow12},\n",
    "              'attenuation_corrected_differential_reflectivity': standard_zdr,\n",
    "              'cross_correlation_ratio_hv': {'vmin' : 0.5, 'vmax' : 1, 'cmap': maps.LangRainbow12},\n",
    "              'differential_reflectivity': standard_zdr,\n",
    "              'spectral_width_vertical': standard_width,\n",
    "              'radial_velocity_vertical': standard_vel,\n",
    "              'uncorrected_reflectivity_vertical': standard_z,\n",
    "              'normalized_coherent_power_horizontal': standard_zto,\n",
    "              'differential_phase': standard_phidp_180,\n",
    "              'clutter_map': {'vmin' : 0, 'vmax' : 10, 'cmap': maps.LangRainbow12},\n",
    "              'signal_to_noise_ratio_horizontal': standard_snr,\n",
    "              'radial_velocity_horizontal': standard_vel,\n",
    "              'corrected_spectral_width_horizontal': standard_width,\n",
    "              'attenuation_corrected_differential_reflectivity_1': standard_zdr,\n",
    "              'uncorrected_refelctivity_horizontal': standard_z,\n",
    "              'reflectivity_horizontal_vertical': standard_z,\n",
    "              'uncorrected_cross_correlation_ratio_hv':  {'vmin' : 0.5, 'vmax' : 1, 'cmap': maps.LangRainbow12},\n",
    "              'reflectivity_horizontal_vertical': standard_z,\n",
    "              'echo_id': {'vmin' : 0, 'vmax' : 10, 'cmap': maps.LangRainbow12}, \n",
    "              'uncorrected_differential_reflectivity': standard_zdr,\n",
    "              'unfolded_radial_velocity_vertical': standard_vel,\n",
    "              'normalized_coherent_power_vertical': standard_zto}"
   ]
  },
  {
   "cell_type": "code",
   "execution_count": 41,
   "metadata": {
    "collapsed": false,
    "deletable": true,
    "editable": true
   },
   "outputs": [
    {
     "name": "stdout",
     "output_type": "stream",
     "text": [
      "min_lat: 39.090955  min_lon: -29.1490554779  max_lat: 39.9893386869  max_lon: -26.872472368\n",
      "Sunday June 25 at 09:20 PM GMT\n"
     ]
    },
    {
     "name": "stderr",
     "output_type": "stream",
     "text": [
      "/Users/scollis/anaconda/envs/houston/lib/python3.5/json/encoder.py:198: DeprecationWarning: Interpreting naive datetime as local 2017-07-12 15:09:52.205493. Please add timezone info to timestamps.\n",
      "  chunks = self.iterencode(o, _one_shot=True)\n"
     ]
    }
   ],
   "source": [
    "auto_plot(ena_radar, 'reflectivity', plotting_table)"
   ]
  },
  {
   "cell_type": "code",
   "execution_count": 55,
   "metadata": {
    "collapsed": false,
    "deletable": true,
    "editable": true
   },
   "outputs": [
    {
     "name": "stdout",
     "output_type": "stream",
     "text": [
      "/data/azores_pyart/quicklooks/xsapr2_ena_quicklook_uncorrected_refelctivity_horizontal_20172506_2120.png\n",
      "min_lat: 39.090955  min_lon: -29.1490554779  max_lat: 39.9893386869  max_lon: -26.872472368\n",
      "Sunday June 25 at 09:20 PM GMT\n",
      "/data/azores_pyart/quicklooks/xsapr2_ena_quicklook_signal_to_noise_ratio_horizontal_20172506_2120.png\n",
      "min_lat: 39.090955  min_lon: -29.1490554779  max_lat: 39.9893386869  max_lon: -26.872472368\n",
      "Sunday June 25 at 09:20 PM GMT\n",
      "/data/azores_pyart/quicklooks/xsapr2_ena_quicklook_attenuation_corrected_reflectivity_horizontal_20172506_2120.png\n",
      "min_lat: 39.090955  min_lon: -29.1490554779  max_lat: 39.9893386869  max_lon: -26.872472368\n",
      "Sunday June 25 at 09:20 PM GMT\n",
      "/data/azores_pyart/quicklooks/xsapr2_ena_quicklook_differential_reflectivity_20172506_2120.png\n",
      "min_lat: 39.090955  min_lon: -29.1490554779  max_lat: 39.9893386869  max_lon: -26.872472368\n",
      "Sunday June 25 at 09:20 PM GMT\n",
      "/data/azores_pyart/quicklooks/xsapr2_ena_quicklook_uncorrected_differential_reflectivity_1_20172506_2120.png\n",
      "min_lat: 39.090955  min_lon: -29.1490554779  max_lat: 39.9893386869  max_lon: -26.872472368\n",
      "Sunday June 25 at 09:20 PM GMT\n",
      "/data/azores_pyart/quicklooks/xsapr2_ena_quicklook_uncorrected_differential_reflectivity_20172506_2120.png\n",
      "min_lat: 39.090955  min_lon: -29.1490554779  max_lat: 39.9893386869  max_lon: -26.872472368\n",
      "Sunday June 25 at 09:20 PM GMT\n",
      "/data/azores_pyart/quicklooks/xsapr2_ena_quicklook_spectral_width_vertical_20172506_2120.png\n",
      "min_lat: 39.090955  min_lon: -29.1490554779  max_lat: 39.9893386869  max_lon: -26.872472368\n",
      "Sunday June 25 at 09:20 PM GMT\n",
      "/data/azores_pyart/quicklooks/xsapr2_ena_quicklook_uncorrected_cross_correlation_ratio_hv_20172506_2120.png\n",
      "min_lat: 39.090955  min_lon: -29.1490554779  max_lat: 39.9893386869  max_lon: -26.872472368\n",
      "Sunday June 25 at 09:20 PM GMT\n",
      "/data/azores_pyart/quicklooks/xsapr2_ena_quicklook_radial_velocity_horizontal_20172506_2120.png\n",
      "min_lat: 39.090955  min_lon: -29.1490554779  max_lat: 39.9893386869  max_lon: -26.872472368\n",
      "Sunday June 25 at 09:20 PM GMT\n",
      "/data/azores_pyart/quicklooks/xsapr2_ena_quicklook_normalized_coherent_power_horizontal_20172506_2120.png\n",
      "min_lat: 39.090955  min_lon: -29.1490554779  max_lat: 39.9893386869  max_lon: -26.872472368\n",
      "Sunday June 25 at 09:20 PM GMT\n",
      "/data/azores_pyart/quicklooks/xsapr2_ena_quicklook_cross_correlation_ratio_hv_20172506_2120.png\n",
      "min_lat: 39.090955  min_lon: -29.1490554779  max_lat: 39.9893386869  max_lon: -26.872472368\n",
      "Sunday June 25 at 09:20 PM GMT\n",
      "/data/azores_pyart/quicklooks/xsapr2_ena_quicklook_clutter_map_20172506_2120.png\n",
      "min_lat: 39.090955  min_lon: -29.1490554779  max_lat: 39.9893386869  max_lon: -26.872472368\n",
      "Sunday June 25 at 09:20 PM GMT\n",
      "/data/azores_pyart/quicklooks/xsapr2_ena_quicklook_echo_id_20172506_2120.png\n",
      "min_lat: 39.090955  min_lon: -29.1490554779  max_lat: 39.9893386869  max_lon: -26.872472368\n",
      "Sunday June 25 at 09:20 PM GMT\n",
      "/data/azores_pyart/quicklooks/xsapr2_ena_quicklook_unfolded_differential_phase_20172506_2120.png\n",
      "min_lat: 39.090955  min_lon: -29.1490554779  max_lat: 39.9893386869  max_lon: -26.872472368\n",
      "Sunday June 25 at 09:20 PM GMT\n",
      "/data/azores_pyart/quicklooks/xsapr2_ena_quicklook_spectral_width_horizontal_20172506_2120.png\n",
      "min_lat: 39.090955  min_lon: -29.1490554779  max_lat: 39.9893386869  max_lon: -26.872472368\n",
      "Sunday June 25 at 09:20 PM GMT\n",
      "/data/azores_pyart/quicklooks/xsapr2_ena_quicklook_attenuation_corrected_differential_reflectivity_1_20172506_2120.png\n",
      "min_lat: 39.090955  min_lon: -29.1490554779  max_lat: 39.9893386869  max_lon: -26.872472368\n",
      "Sunday June 25 at 09:20 PM GMT\n",
      "/data/azores_pyart/quicklooks/xsapr2_ena_quicklook_unfolded_radial_velocity_vertical_20172506_2120.png\n",
      "min_lat: 39.090955  min_lon: -29.1490554779  max_lat: 39.9893386869  max_lon: -26.872472368\n",
      "Sunday June 25 at 09:20 PM GMT\n",
      "/data/azores_pyart/quicklooks/xsapr2_ena_quicklook_uncorrected_reflectivity_vertical_20172506_2120.png\n",
      "min_lat: 39.090955  min_lon: -29.1490554779  max_lat: 39.9893386869  max_lon: -26.872472368\n",
      "Sunday June 25 at 09:20 PM GMT\n",
      "/data/azores_pyart/quicklooks/xsapr2_ena_quicklook_specific_differential_phase_20172506_2120.png\n",
      "min_lat: 39.090955  min_lon: -29.1490554779  max_lat: 39.9893386869  max_lon: -26.872472368\n",
      "Sunday June 25 at 09:20 PM GMT\n",
      "/data/azores_pyart/quicklooks/xsapr2_ena_quicklook_differential_reflectivity_1_20172506_2120.png\n",
      "min_lat: 39.090955  min_lon: -29.1490554779  max_lat: 39.9893386869  max_lon: -26.872472368\n",
      "Sunday June 25 at 09:20 PM GMT\n",
      "/data/azores_pyart/quicklooks/xsapr2_ena_quicklook_normalized_coherent_power_vertical_20172506_2120.png\n",
      "min_lat: 39.090955  min_lon: -29.1490554779  max_lat: 39.9893386869  max_lon: -26.872472368\n",
      "Sunday June 25 at 09:20 PM GMT\n",
      "/data/azores_pyart/quicklooks/xsapr2_ena_quicklook_uncorrected_reflectivity_20172506_2120.png\n",
      "min_lat: 39.090955  min_lon: -29.1490554779  max_lat: 39.9893386869  max_lon: -26.872472368\n",
      "Sunday June 25 at 09:20 PM GMT\n",
      "/data/azores_pyart/quicklooks/xsapr2_ena_quicklook_signal_to_noise_ratio_vertical_20172506_2120.png\n",
      "min_lat: 39.090955  min_lon: -29.1490554779  max_lat: 39.9893386869  max_lon: -26.872472368\n",
      "Sunday June 25 at 09:20 PM GMT\n",
      "/data/azores_pyart/quicklooks/xsapr2_ena_quicklook_differential_phase_20172506_2120.png\n",
      "min_lat: 39.090955  min_lon: -29.1490554779  max_lat: 39.9893386869  max_lon: -26.872472368\n",
      "Sunday June 25 at 09:20 PM GMT\n",
      "/data/azores_pyart/quicklooks/xsapr2_ena_quicklook_corrected_spectral_width_vertical_20172506_2120.png\n",
      "min_lat: 39.090955  min_lon: -29.1490554779  max_lat: 39.9893386869  max_lon: -26.872472368\n",
      "Sunday June 25 at 09:20 PM GMT\n",
      "/data/azores_pyart/quicklooks/xsapr2_ena_quicklook_reflectivity_horizontal_vertical_20172506_2120.png\n",
      "min_lat: 39.090955  min_lon: -29.1490554779  max_lat: 39.9893386869  max_lon: -26.872472368\n",
      "Sunday June 25 at 09:20 PM GMT\n",
      "/data/azores_pyart/quicklooks/xsapr2_ena_quicklook_corrected_spectral_width_horizontal_20172506_2120.png\n",
      "min_lat: 39.090955  min_lon: -29.1490554779  max_lat: 39.9893386869  max_lon: -26.872472368\n",
      "Sunday June 25 at 09:20 PM GMT\n",
      "/data/azores_pyart/quicklooks/xsapr2_ena_quicklook_attenuation_corrected_differential_reflectivity_20172506_2120.png\n",
      "min_lat: 39.090955  min_lon: -29.1490554779  max_lat: 39.9893386869  max_lon: -26.872472368\n",
      "Sunday June 25 at 09:20 PM GMT\n",
      "/data/azores_pyart/quicklooks/xsapr2_ena_quicklook_reflectivity_20172506_2120.png\n",
      "min_lat: 39.090955  min_lon: -29.1490554779  max_lat: 39.9893386869  max_lon: -26.872472368\n",
      "Sunday June 25 at 09:20 PM GMT\n",
      "/data/azores_pyart/quicklooks/xsapr2_ena_quicklook_radial_velocity_vertical_20172506_2120.png\n",
      "min_lat: 39.090955  min_lon: -29.1490554779  max_lat: 39.9893386869  max_lon: -26.872472368\n",
      "Sunday June 25 at 09:20 PM GMT\n",
      "/data/azores_pyart/quicklooks/xsapr2_ena_quicklook_unfolded_radial_velocity_horizontal_20172506_2120.png\n",
      "min_lat: 39.090955  min_lon: -29.1490554779  max_lat: 39.9893386869  max_lon: -26.872472368\n",
      "Sunday June 25 at 09:20 PM GMT\n"
     ]
    },
    {
     "name": "stderr",
     "output_type": "stream",
     "text": [
      "/Users/scollis/anaconda/envs/houston/lib/python3.5/json/encoder.py:198: DeprecationWarning: Interpreting naive datetime as local 2017-07-12 15:23:41.311146. Please add timezone info to timestamps.\n",
      "  chunks = self.iterencode(o, _one_shot=True)\n"
     ]
    }
   ],
   "source": [
    "os.makedirs(quicklook_directory, exist_ok=True)\n",
    "for fld in list(ena_radar.fields.keys()):\n",
    "    print(gen_name(quicklook_directory, ena_radar, fld))\n",
    "    auto_plot(quicklook_directory, ena_radar, fld, plotting_table)"
   ]
  },
  {
   "cell_type": "code",
   "execution_count": 44,
   "metadata": {
    "collapsed": false
   },
   "outputs": [
    {
     "name": "stderr",
     "output_type": "stream",
     "text": [
      "/Users/scollis/anaconda/envs/houston/lib/python3.5/json/encoder.py:198: DeprecationWarning: Interpreting naive datetime as local 2017-07-12 15:12:49.704868. Please add timezone info to timestamps.\n",
      "  chunks = self.iterencode(o, _one_shot=True)\n"
     ]
    }
   ],
   "source": []
  },
  {
   "cell_type": "code",
   "execution_count": 46,
   "metadata": {
    "collapsed": false
   },
   "outputs": [
    {
     "data": {
      "text/plain": [
       "'20172506_2120'"
      ]
     },
     "execution_count": 46,
     "metadata": {},
     "output_type": "execute_result"
    },
    {
     "name": "stderr",
     "output_type": "stream",
     "text": [
      "/Users/scollis/anaconda/envs/houston/lib/python3.5/json/encoder.py:198: DeprecationWarning: Interpreting naive datetime as local 2017-07-12 15:13:22.838940. Please add timezone info to timestamps.\n",
      "  chunks = self.iterencode(o, _one_shot=True)\n"
     ]
    }
   ],
   "source": []
  },
  {
   "cell_type": "code",
   "execution_count": 54,
   "metadata": {
    "collapsed": false
   },
   "outputs": [
    {
     "name": "stderr",
     "output_type": "stream",
     "text": [
      "/Users/scollis/anaconda/envs/houston/lib/python3.5/json/encoder.py:198: DeprecationWarning: Interpreting naive datetime as local 2017-07-12 15:23:18.900332. Please add timezone info to timestamps.\n",
      "  chunks = self.iterencode(o, _one_shot=True)\n"
     ]
    }
   ],
   "source": [
    "os.makedirs?"
   ]
  },
  {
   "cell_type": "code",
   "execution_count": null,
   "metadata": {
    "collapsed": true
   },
   "outputs": [],
   "source": []
  }
 ],
 "metadata": {
  "kernelspec": {
   "display_name": "Python 3",
   "language": "python",
   "name": "python3"
  },
  "language_info": {
   "codemirror_mode": {
    "name": "ipython",
    "version": 3
   },
   "file_extension": ".py",
   "mimetype": "text/x-python",
   "name": "python",
   "nbconvert_exporter": "python",
   "pygments_lexer": "ipython3",
   "version": "3.5.3"
  }
 },
 "nbformat": 4,
 "nbformat_minor": 2
}
