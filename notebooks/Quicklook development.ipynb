{
 "cells": [
  {
   "cell_type": "markdown",
   "metadata": {},
   "source": [
    "Aim: develop a turnkey quicklook code for X-SAPR2"
   ]
  },
  {
   "cell_type": "code",
   "execution_count": 1,
   "metadata": {
    "collapsed": false
   },
   "outputs": [
    {
     "name": "stdout",
     "output_type": "stream",
     "text": [
      "\n",
      "## You are using the Python ARM Radar Toolkit (Py-ART), an open source\n",
      "## library for working with weather radar data. Py-ART is partly\n",
      "## supported by the U.S. Department of Energy as part of the Atmospheric\n",
      "## Radiation Measurement (ARM) Climate Research Facility, an Office of\n",
      "## Science user facility.\n",
      "##\n",
      "## If you use this software to prepare a publication, please cite:\n",
      "##\n",
      "##     JJ Helmus and SM Collis, JORS 2016, doi: 10.5334/jors.119\n",
      "\n"
     ]
    },
    {
     "name": "stderr",
     "output_type": "stream",
     "text": [
      "/Users/scollis/anaconda/envs/houston/lib/python3.5/json/encoder.py:198: DeprecationWarning: Interpreting naive datetime as local 2017-07-11 10:33:40.180835. Please add timezone info to timestamps.\n",
      "  chunks = self.iterencode(o, _one_shot=True)\n"
     ]
    }
   ],
   "source": [
    "#all our favourite imports\n",
    "from matplotlib import pyplot as plt\n",
    "import numpy as np\n",
    "import pyart\n",
    "from netCDF4 import num2date\n",
    "import pytz\n",
    "import cartopy\n",
    "import os\n",
    "#warnings.filterwarnings(\"ignore\")\n",
    "%matplotlib inline"
   ]
  },
  {
   "cell_type": "code",
   "execution_count": 26,
   "metadata": {
    "collapsed": false
   },
   "outputs": [
    {
     "name": "stderr",
     "output_type": "stream",
     "text": [
      "/Users/scollis/anaconda/envs/houston/lib/python3.5/json/encoder.py:198: DeprecationWarning: Interpreting naive datetime as local 2017-07-11 14:35:26.748750. Please add timezone info to timestamps.\n",
      "  chunks = self.iterencode(o, _one_shot=True)\n"
     ]
    }
   ],
   "source": [
    "filename = '/data/azores_pyart/enaxsaprsecD1.00.20170625.212006.raw.sec_XSAPR2_20170625212006_00.h5'\n",
    "ena_radar =  pyart.aux_io.gamic_hdf5.read_gamic(filename, file_field_names=True)\n"
   ]
  },
  {
   "cell_type": "code",
   "execution_count": 3,
   "metadata": {
    "collapsed": false
   },
   "outputs": [
    {
     "name": "stdout",
     "output_type": "stream",
     "text": [
      "dict_keys(['data', '_FillValue', 'units'])\n"
     ]
    },
    {
     "name": "stderr",
     "output_type": "stream",
     "text": [
      "/Users/scollis/anaconda/envs/houston/lib/python3.5/json/encoder.py:198: DeprecationWarning: Interpreting naive datetime as local 2017-07-11 10:36:03.496885. Please add timezone info to timestamps.\n",
      "  chunks = self.iterencode(o, _one_shot=True)\n"
     ]
    }
   ],
   "source": [
    "quicklook_directory = '/data/azores_pyart/quicklooks/'"
   ]
  },
  {
   "cell_type": "code",
   "execution_count": 7,
   "metadata": {
    "collapsed": false
   },
   "outputs": [
    {
     "name": "stdout",
     "output_type": "stream",
     "text": [
      "Z : dBZ\n",
      "UZ : dBZ\n",
      "UZDR1 : dB\n",
      "ZDR1 : dB\n",
      "CWv : m/s\n",
      "AZh : dBZ\n",
      "Wh : m/s\n",
      "UnVh : m/s\n",
      "SNRv : dB\n",
      "UPHIDP : deg\n",
      "KDP : deg/km\n",
      "AZDR : dB\n",
      "RHOHV : Unavailable\n",
      "ZDR : dB\n",
      "Wv : m/s\n",
      "Vv : m/s\n",
      "UZv : dBZ\n",
      "SQIh : Unavailable\n",
      "PHIDP : deg\n",
      "CMAP : Unavailable\n",
      "SNRh : dB\n",
      "Vh : m/s\n",
      "CWh : m/s\n",
      "AZDR1 : dB\n",
      "UZh : dBZ\n",
      "Zv : dBZ\n",
      "URHOHV : Unavailable\n",
      "Zh : dBZ\n",
      "CLASS : Unavailable\n",
      "UZDR : dB\n",
      "UnVv : m/s\n",
      "SQIv : Unavailable\n"
     ]
    },
    {
     "name": "stderr",
     "output_type": "stream",
     "text": [
      "/Users/scollis/anaconda/envs/houston/lib/python3.5/json/encoder.py:198: DeprecationWarning: Interpreting naive datetime as local 2017-07-11 11:10:40.722629. Please add timezone info to timestamps.\n",
      "  chunks = self.iterencode(o, _one_shot=True)\n"
     ]
    }
   ],
   "source": [
    "for field_name in list(ena_radar.fields.keys()):\n",
    "    try:\n",
    "        print(field_name, ':', ena_radar.fields[field_name]['units'])\n",
    "    except KeyError:\n",
    "        print(field_name, ':', 'Unavailable')"
   ]
  },
  {
   "cell_type": "code",
   "execution_count": 9,
   "metadata": {
    "collapsed": false
   },
   "outputs": [
    {
     "name": "stderr",
     "output_type": "stream",
     "text": [
      "/Users/scollis/anaconda/envs/houston/lib/python3.5/json/encoder.py:198: DeprecationWarning: Interpreting naive datetime as local 2017-07-11 14:14:22.751590. Please add timezone info to timestamps.\n",
      "  chunks = self.iterencode(o, _one_shot=True)\n"
     ]
    }
   ],
   "source": [
    "#page 44 of https://github.com/scollis/CfRadial/blob/master/docs/CfRadialDoc.v2.0.draft.pdf\n",
    "z_name = 'equivalent_reflectivity_factor'\n",
    "v_name = 'radial_velocity_of_scatterers_away_from_instrument'\n",
    "wth_name = 'doppler_spectrum_width'\n",
    "zdr_name = 'log_differential_reflectivity_hv'\n",
    "ldr_name = 'log_linear_depolarization_ratio_hv'\n",
    "phidp_name = 'differential_phase_hv'\n",
    "kdp_name = 'specific_differential_phase_hv'\n",
    "rhv_name = 'cross_correlation_ratio_hv' \n",
    "power_name = 'log_power'\n",
    "sqi_name = 'normalized_coherent_power'\n",
    "zc_name = 'corrected_equivalent_reflectivity_factor'\n",
    "vc_name = 'corrected_radial_velocity_of_scatterers_away_from_instrument'\n",
    "zdrc_name = 'corrected_log_differential_reflectivity_hv'\n",
    "class_name = 'radar_echo_classification'\n",
    "snr_name = 'signal_to_noise_ratio'\n",
    "\n",
    "trans_table = {'Z': {'standard_name': z_name, 'name': 'refelctivity'},\n",
    "               'UZ': {'standard_name': z_name, 'name': 'uncorrected_refelctivity'},\n",
    "              'UZDR1': {'standard_name': zdr_name, 'name': 'uncorrected_differential_reflectivity_1'},\n",
    "              'ZDR1': {'standard_name': zdr_name, 'name': 'differential_refelctivity_1'},\n",
    "              'CWv': {'standard_name': wth_name, 'name': 'corrected_spectral_width_vertical'},\n",
    "              'AZh': {'standard_name': z_name, 'name': 'attenuation_corrected_reflectivity_horizontal'},\n",
    "              'Wh': {'standard_name': wth_name, 'name': 'spectral_width_horizontal'},\n",
    "              'UnVh': {'standard_name': vc_name, 'name': 'unfolded_radial_velocity_horizontal'},\n",
    "              'SNRv': {'standard_name': snr_name, 'name': 'signal_to_noise_ratio_vertical'},\n",
    "              'UPHIDP': {'standard_name': phidp_name, 'name': 'unfolded_differential_phase'},\n",
    "              'KDP': {'standard_name': kdp_name, 'name': 'specific_differential_phase'},\n",
    "              'AZDR': {'standard_name': zdrc_name, 'name': 'attenuation_corrected_differential_reflectivity'},\n",
    "              'RHOHV': {'standard_name': rhv_name, 'name': 'cross_correlation_ratio_hv', 'units': 'unitless'},\n",
    "              'ZDR': {'standard_name': zdr_name, 'name': 'differential_refelctivity'},\n",
    "              'Wv': {'standard_name': wth_name, 'name': 'spectral_width_vertical'},\n",
    "              'Vv': {'standard_name': v_name, 'name': 'radial_velocity_vertical'},\n",
    "              'UZv': {'standard_name': z_name, 'name': 'uncorrected_reflectivity_vertical'},\n",
    "              'SQIh': {'standard_name': sqi_name, 'name': 'normalized_coherent_power_horizontal', 'units': 'unitless'},\n",
    "              'PHIDP': {'standard_name': phidp_name, 'name': 'differential_phase'},\n",
    "              'CMAP': {'standard_name': class_name, 'name': 'clutter_map', 'units': 'unitless'},\n",
    "              'SNRh': {'standard_name': snr_name, 'name': 'signal_to_noise_ratio_horizontal'},\n",
    "              'Vh': {'standard_name': v_name, 'name': 'radial_velocity_horizontal'},\n",
    "              'CWh': {'standard_name': wth_name, 'name': 'corrected_spectral_width_horizontal'},\n",
    "              'AZDR1': {'standard_name': zdrc_name, 'name': 'attenuation_corrected_differential_reflectivity_1'},\n",
    "              'UZh': {'standard_name': z_name, 'name': 'uncorrected_refelctivity_horizontal'},\n",
    "              'Zv': {'standard_name': z_name, 'name': 'refelctivity_horizontal_vertical'},\n",
    "              'URHOHV':  {'standard_name': rhv_name, 'name': 'uncorrected_cross_correlation_ratio_hv', 'units': 'unitless'},\n",
    "              'Zh': {'standard_name': z_name, 'name': 'refelctivity_horizontal_vertical'},\n",
    "              'CLASS': {'standard_name': class_name, 'name': 'echo_id', 'units': 'unitless'}, \n",
    "              'UZDR': {'standard_name': zdr_name, 'name': 'uncorrected_differential_reflectivity'},\n",
    "              'UnVv': {'standard_name': vc_name, 'name': 'unfolded_radial_velocity_vertical'},\n",
    "              'SQIv': {'standard_name': sqi_name, 'name': 'normalized_coherent_power_vertical', 'units': 'unitless'}}"
   ]
  },
  {
   "cell_type": "code",
   "execution_count": 27,
   "metadata": {
    "collapsed": false
   },
   "outputs": [
    {
     "name": "stderr",
     "output_type": "stream",
     "text": [
      "/Users/scollis/anaconda/envs/houston/lib/python3.5/json/encoder.py:198: DeprecationWarning: Interpreting naive datetime as local 2017-07-11 14:36:00.354649. Please add timezone info to timestamps.\n",
      "  chunks = self.iterencode(o, _one_shot=True)\n"
     ]
    }
   ],
   "source": [
    "for field_name in list(ena_radar.fields.keys()):\n",
    "    for transfer_item in list(trans_table[field_name].keys()):\n",
    "        if transfer_item != 'name':\n",
    "            ena_radar.fields[field_name][transfer_item] = trans_table[field_name][transfer_item]\n",
    "    ena_radar.fields[field_name]['HDF_name'] = field_name\n",
    "    ena_radar.fields[trans_table[field_name]['name']] = ena_radar.fields.pop(field_name)\n",
    "    "
   ]
  },
  {
   "cell_type": "code",
   "execution_count": 28,
   "metadata": {
    "collapsed": false
   },
   "outputs": [
    {
     "name": "stdout",
     "output_type": "stream",
     "text": [
      "normalized_coherent_power_horizontal -: HDF_name: SQIh, standard_name: normalized_coherent_power, _FillValue: -9999.0, units: unitless, \n",
      "spectral_width_vertical -: HDF_name: Wv, standard_name: doppler_spectrum_width, _FillValue: -9999.0, units: m/s, \n",
      "refelctivity_horizontal_vertical -: HDF_name: Zh, standard_name: equivalent_reflectivity_factor, _FillValue: -9999.0, units: dBZ, \n",
      "corrected_spectral_width_horizontal -: HDF_name: CWh, standard_name: doppler_spectrum_width, _FillValue: -9999.0, units: m/s, \n",
      "differential_phase -: HDF_name: PHIDP, standard_name: differential_phase_hv, _FillValue: -9999.0, units: deg, \n",
      "refelctivity -: HDF_name: Z, standard_name: equivalent_reflectivity_factor, _FillValue: -9999.0, units: dBZ, \n",
      "uncorrected_differential_reflectivity_1 -: HDF_name: UZDR1, standard_name: log_differential_reflectivity_hv, _FillValue: -9999.0, units: dB, \n",
      "clutter_map -: HDF_name: CMAP, standard_name: radar_echo_classification, _FillValue: -9999.0, units: unitless, \n",
      "cross_correlation_ratio_hv -: HDF_name: RHOHV, standard_name: cross_correlation_ratio_hv, _FillValue: -9999.0, units: unitless, \n",
      "radial_velocity_vertical -: HDF_name: Vv, standard_name: radial_velocity_of_scatterers_away_from_instrument, _FillValue: -9999.0, units: m/s, \n",
      "echo_id -: HDF_name: CLASS, standard_name: radar_echo_classification, _FillValue: -9999.0, units: unitless, \n",
      "corrected_spectral_width_vertical -: HDF_name: CWv, standard_name: doppler_spectrum_width, _FillValue: -9999.0, units: m/s, \n",
      "normalized_coherent_power_vertical -: HDF_name: SQIv, standard_name: normalized_coherent_power, _FillValue: -9999.0, units: unitless, \n",
      "attenuation_corrected_reflectivity_horizontal -: HDF_name: AZh, standard_name: equivalent_reflectivity_factor, _FillValue: -9999.0, units: dBZ, \n",
      "specific_differential_phase -: HDF_name: KDP, standard_name: specific_differential_phase_hv, _FillValue: -9999.0, units: deg/km, \n",
      "unfolded_differential_phase -: HDF_name: UPHIDP, standard_name: differential_phase_hv, _FillValue: -9999.0, units: deg, \n",
      "differential_refelctivity_1 -: HDF_name: ZDR1, standard_name: log_differential_reflectivity_hv, _FillValue: -9999.0, units: dB, \n",
      "attenuation_corrected_differential_reflectivity_1 -: HDF_name: AZDR1, standard_name: corrected_log_differential_reflectivity_hv, _FillValue: -9999.0, units: dB, \n",
      "uncorrected_refelctivity_horizontal -: HDF_name: UZh, standard_name: equivalent_reflectivity_factor, _FillValue: -9999.0, units: dBZ, \n",
      "attenuation_corrected_differential_reflectivity -: HDF_name: AZDR, standard_name: corrected_log_differential_reflectivity_hv, _FillValue: -9999.0, units: dB, \n",
      "uncorrected_refelctivity -: HDF_name: UZ, standard_name: equivalent_reflectivity_factor, _FillValue: -9999.0, units: dBZ, \n",
      "uncorrected_cross_correlation_ratio_hv -: HDF_name: URHOHV, standard_name: cross_correlation_ratio_hv, _FillValue: -9999.0, units: unitless, \n",
      "signal_to_noise_ratio_horizontal -: HDF_name: SNRh, standard_name: signal_to_noise_ratio, _FillValue: -9999.0, units: dB, \n",
      "signal_to_noise_ratio_vertical -: HDF_name: SNRv, standard_name: signal_to_noise_ratio, _FillValue: -9999.0, units: dB, \n",
      "uncorrected_reflectivity_vertical -: HDF_name: UZv, standard_name: equivalent_reflectivity_factor, _FillValue: -9999.0, units: dBZ, \n",
      "radial_velocity_horizontal -: HDF_name: Vh, standard_name: radial_velocity_of_scatterers_away_from_instrument, _FillValue: -9999.0, units: m/s, \n",
      "differential_refelctivity -: HDF_name: ZDR, standard_name: log_differential_reflectivity_hv, _FillValue: -9999.0, units: dB, \n",
      "spectral_width_horizontal -: HDF_name: Wh, standard_name: doppler_spectrum_width, _FillValue: -9999.0, units: m/s, \n",
      "unfolded_radial_velocity_horizontal -: HDF_name: UnVh, standard_name: corrected_radial_velocity_of_scatterers_away_from_instrument, _FillValue: -9999.0, units: m/s, \n",
      "uncorrected_differential_reflectivity -: HDF_name: UZDR, standard_name: log_differential_reflectivity_hv, _FillValue: -9999.0, units: dB, \n",
      "unfolded_radial_velocity_vertical -: HDF_name: UnVv, standard_name: corrected_radial_velocity_of_scatterers_away_from_instrument, _FillValue: -9999.0, units: m/s, \n"
     ]
    },
    {
     "name": "stderr",
     "output_type": "stream",
     "text": [
      "/Users/scollis/anaconda/envs/houston/lib/python3.5/json/encoder.py:198: DeprecationWarning: Interpreting naive datetime as local 2017-07-11 14:36:03.256426. Please add timezone info to timestamps.\n",
      "  chunks = self.iterencode(o, _one_shot=True)\n"
     ]
    }
   ],
   "source": [
    "for field_name in list(ena_radar.fields.keys()):\n",
    "    strr = field_name + ' -: '\n",
    "    for this in list(ena_radar.fields[field_name].keys()):\n",
    "        if this != 'data':\n",
    "            strr += this + ': ' + str(ena_radar.fields[field_name][this]) + ', '\n",
    "    print(strr)"
   ]
  },
  {
   "cell_type": "code",
   "execution_count": 20,
   "metadata": {
    "collapsed": false
   },
   "outputs": [
    {
     "data": {
      "text/plain": [
       "'ab'"
      ]
     },
     "execution_count": 20,
     "metadata": {},
     "output_type": "execute_result"
    },
    {
     "name": "stderr",
     "output_type": "stream",
     "text": [
      "/Users/scollis/anaconda/envs/houston/lib/python3.5/json/encoder.py:198: DeprecationWarning: Interpreting naive datetime as local 2017-07-11 14:31:50.837358. Please add timezone info to timestamps.\n",
      "  chunks = self.iterencode(o, _one_shot=True)\n"
     ]
    }
   ],
   "source": []
  },
  {
   "cell_type": "code",
   "execution_count": null,
   "metadata": {
    "collapsed": true
   },
   "outputs": [],
   "source": []
  }
 ],
 "metadata": {
  "kernelspec": {
   "display_name": "Python 3",
   "language": "python",
   "name": "python3"
  },
  "language_info": {
   "codemirror_mode": {
    "name": "ipython",
    "version": 3
   },
   "file_extension": ".py",
   "mimetype": "text/x-python",
   "name": "python",
   "nbconvert_exporter": "python",
   "pygments_lexer": "ipython3",
   "version": "3.5.3"
  }
 },
 "nbformat": 4,
 "nbformat_minor": 2
}
